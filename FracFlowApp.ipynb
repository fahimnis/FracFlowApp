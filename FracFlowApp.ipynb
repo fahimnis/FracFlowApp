{
 "cells": [
  {
   "cell_type": "markdown",
   "metadata": {},
   "source": [
    "# Fractional Flow\n"
   ]
  },
  {
   "cell_type": "code",
   "execution_count": 1,
   "metadata": {},
   "outputs": [
    {
     "data": {
      "application/vnd.jupyter.widget-view+json": {
       "model_id": "3e763f0215c940aaaafc5e9dea33f030",
       "version_major": 2,
       "version_minor": 0
      },
      "text/plain": [
       "interactive(children=(BoundedFloatText(value=0.25, description='Swr', max=1.0, step=0.01), BoundedFloatText(va…"
      ]
     },
     "metadata": {},
     "output_type": "display_data"
    }
   ],
   "source": [
    "import numpy as np\n",
    "import math as m\n",
    "import matplotlib.pyplot as plt\n",
    "from ipywidgets import BoundedFloatText, interactive, interact,FloatSlider\n",
    "%matplotlib inline\n",
    "    \n",
    "def fracflow(Swr,Sor,krwo,kroo,visco,u,alpha,rhoo,k,no,nw):\n",
    "    \n",
    "    viscw = 1 # cp\n",
    "    rhow = 62.4 # lb/ft3\n",
    "    \n",
    "    Swr2 = 1-Sor\n",
    "\n",
    "    Sw = np.linspace(Swr,Swr2,100)\n",
    "    Sw1 = Sw + 0.0001\n",
    "\n",
    "    krw = np.empty(100)\n",
    "    kro = np.empty(100) \n",
    "    krw1 = np.empty(100)\n",
    "    kro1 = np.empty(100)\n",
    "    \n",
    "    for i,j in enumerate(Sw):\n",
    "        \n",
    "        S = (j-Swr)/(1-Swr-Sor)\n",
    "        krw[i] = krwo*(S**nw)\n",
    "        kro[i] = kroo*((1-S)**no)\n",
    "         \n",
    "    fw = np.empty(100)\n",
    "    dfw = np.empty(100)\n",
    "    \n",
    "    for i,j in enumerate(Sw):\n",
    "        \n",
    "        with np.errstate(divide='ignore'):\n",
    "        \n",
    "            bottom = (1+(kro[i]*viscw)/(krw[i]*visco))\n",
    "\n",
    "            fw[i]=(1+(6.33E-3/144)*((k*kro[i])/(u*visco))*((rhoo-rhow)*m.sin(np.deg2rad(alpha))))/bottom\n",
    "                   \n",
    "            \n",
    "            if i == 0 :\n",
    "                \n",
    "                dfw[i] = 0\n",
    "                \n",
    "            else:\n",
    "                \n",
    "                dfw[i]=(fw[i]-fw[i-1])/(Sw[i]-Sw[i-1])\n",
    "                \n",
    "    \n",
    "    f = plt.figure(figsize=(15,5))\n",
    "    ax = f.add_subplot(121)\n",
    "    ax2 = f.add_subplot(122)\n",
    "    ax.plot(Sw,fw,'b-')\n",
    "    ax.set_title('Fractional Flow of Water')\n",
    "    ax.set_xlabel('$S_W$')\n",
    "    ax.set_ylabel('$f_W$')\n",
    "    ax.grid()\n",
    "    ax2.plot(Sw,dfw,'g-')\n",
    "    ax2.set_title('Derivative of Fractional Flow')\n",
    "    ax2.set_xlabel('$S_W$')\n",
    "    ax2.set_ylabel('$df_W/dS_W$')\n",
    "    ax2.grid() \n",
    "    \n",
    "InputSwr = BoundedFloatText(value=0.25,min=0,max=1,step=0.01,description='Swr',disabled=False)\n",
    "InputSor = BoundedFloatText(value=0.3,min=0,max=1,step=0.01,description='Sor',disabled=False)\n",
    "Inputkrwo = BoundedFloatText(value=0.2,min=0,max=1,step=0.01,description='krw0',disabled=False)\n",
    "Inputkroo = BoundedFloatText(value=1,min=0,max=1,step=0.01,description='kro0',disabled=False)\n",
    "Inputvisco = BoundedFloatText(value=5,min=0,max=150,step=0.1,description='Visc [cp]',disabled=False)\n",
    "Inputu = BoundedFloatText(value=0.01,min=0,max=100,step=0.01,description='u [ft/day]',disabled=False)\n",
    "Inputalpha = BoundedFloatText(value=0,min=-180,max=180,step=0.01,description='α [deg]',disabled=False)\n",
    "Inputrhoo = BoundedFloatText(value=40.5,min=0,max=62.4,step=0.01,description='ρ_o [lb/ft^3]',disabled=False)\n",
    "Inputk = BoundedFloatText(value=416,min=0,max=1000,step=0.01,description='Perm [mD]',disabled=False)\n",
    "\n",
    "interact (fracflow,Swr=InputSwr, \n",
    "          Sor=InputSor,\n",
    "          krwo=Inputkrwo,\n",
    "          kroo=Inputkroo,\n",
    "          visco=Inputvisco,\n",
    "          u=Inputu,\n",
    "          alpha=Inputalpha,\n",
    "          rhoo=Inputrhoo,\n",
    "          k=Inputk,\n",
    "                 \n",
    "          no=FloatSlider(value=2,min=1,max=6.0,step=0.01,disabled=False,continuous_update=False,\n",
    "                             orientation='horizontal',\n",
    "                             layout = {'width':'40%'},\n",
    "                             readout=True,\n",
    "                             readout_format='.2f'),\n",
    "          nw=FloatSlider(value=2,min=1,max=6.0,step=0.01,disabled=False,continuous_update=False,\n",
    "                             orientation='horizontal',\n",
    "                             layout = {'width':'40%'},\n",
    "                             readout=True,\n",
    "                             readout_format='.2f'));\n",
    "    "
   ]
  },
  {
   "cell_type": "code",
   "execution_count": null,
   "metadata": {},
   "outputs": [],
   "source": []
  },
  {
   "cell_type": "code",
   "execution_count": null,
   "metadata": {},
   "outputs": [],
   "source": []
  }
 ],
 "metadata": {
  "kernelspec": {
   "display_name": "Python 3",
   "language": "python",
   "name": "python3"
  },
  "language_info": {
   "codemirror_mode": {
    "name": "ipython",
    "version": 3
   },
   "file_extension": ".py",
   "mimetype": "text/x-python",
   "name": "python",
   "nbconvert_exporter": "python",
   "pygments_lexer": "ipython3",
   "version": "3.7.3"
  }
 },
 "nbformat": 4,
 "nbformat_minor": 2
}
